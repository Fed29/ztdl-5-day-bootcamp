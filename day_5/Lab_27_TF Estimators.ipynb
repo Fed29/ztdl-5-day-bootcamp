{
 "cells": [
  {
   "cell_type": "markdown",
   "metadata": {},
   "source": [
    "# Tensorflow Estimators"
   ]
  },
  {
   "cell_type": "code",
   "execution_count": 51,
   "metadata": {},
   "outputs": [],
   "source": [
    "import tensorflow as tf\n",
    "import pandas as pd"
   ]
  },
  {
   "cell_type": "code",
   "execution_count": 52,
   "metadata": {},
   "outputs": [],
   "source": [
    "df = pd.read_csv('../data/iris.csv')"
   ]
  },
  {
   "cell_type": "code",
   "execution_count": 53,
   "metadata": {},
   "outputs": [
    {
     "data": {
      "text/html": [
       "<div>\n",
       "<style scoped>\n",
       "    .dataframe tbody tr th:only-of-type {\n",
       "        vertical-align: middle;\n",
       "    }\n",
       "\n",
       "    .dataframe tbody tr th {\n",
       "        vertical-align: top;\n",
       "    }\n",
       "\n",
       "    .dataframe thead th {\n",
       "        text-align: right;\n",
       "    }\n",
       "</style>\n",
       "<table border=\"1\" class=\"dataframe\">\n",
       "  <thead>\n",
       "    <tr style=\"text-align: right;\">\n",
       "      <th></th>\n",
       "      <th>sepal_length</th>\n",
       "      <th>sepal_width</th>\n",
       "      <th>petal_length</th>\n",
       "      <th>petal_width</th>\n",
       "      <th>species</th>\n",
       "    </tr>\n",
       "  </thead>\n",
       "  <tbody>\n",
       "    <tr>\n",
       "      <th>0</th>\n",
       "      <td>5.1</td>\n",
       "      <td>3.5</td>\n",
       "      <td>1.4</td>\n",
       "      <td>0.2</td>\n",
       "      <td>setosa</td>\n",
       "    </tr>\n",
       "    <tr>\n",
       "      <th>1</th>\n",
       "      <td>4.9</td>\n",
       "      <td>3.0</td>\n",
       "      <td>1.4</td>\n",
       "      <td>0.2</td>\n",
       "      <td>setosa</td>\n",
       "    </tr>\n",
       "    <tr>\n",
       "      <th>2</th>\n",
       "      <td>4.7</td>\n",
       "      <td>3.2</td>\n",
       "      <td>1.3</td>\n",
       "      <td>0.2</td>\n",
       "      <td>setosa</td>\n",
       "    </tr>\n",
       "    <tr>\n",
       "      <th>3</th>\n",
       "      <td>4.6</td>\n",
       "      <td>3.1</td>\n",
       "      <td>1.5</td>\n",
       "      <td>0.2</td>\n",
       "      <td>setosa</td>\n",
       "    </tr>\n",
       "    <tr>\n",
       "      <th>4</th>\n",
       "      <td>5.0</td>\n",
       "      <td>3.6</td>\n",
       "      <td>1.4</td>\n",
       "      <td>0.2</td>\n",
       "      <td>setosa</td>\n",
       "    </tr>\n",
       "  </tbody>\n",
       "</table>\n",
       "</div>"
      ],
      "text/plain": [
       "   sepal_length  sepal_width  petal_length  petal_width species\n",
       "0           5.1          3.5           1.4          0.2  setosa\n",
       "1           4.9          3.0           1.4          0.2  setosa\n",
       "2           4.7          3.2           1.3          0.2  setosa\n",
       "3           4.6          3.1           1.5          0.2  setosa\n",
       "4           5.0          3.6           1.4          0.2  setosa"
      ]
     },
     "execution_count": 53,
     "metadata": {},
     "output_type": "execute_result"
    }
   ],
   "source": [
    "df.head()"
   ]
  },
  {
   "cell_type": "code",
   "execution_count": 54,
   "metadata": {},
   "outputs": [],
   "source": [
    "X = df.drop('species', axis='columns')\n",
    "y = df['species']\n",
    "\n",
    "column_names = df.columns[:-1]"
   ]
  },
  {
   "cell_type": "code",
   "execution_count": 55,
   "metadata": {},
   "outputs": [],
   "source": [
    "from sklearn.model_selection import train_test_split"
   ]
  },
  {
   "cell_type": "code",
   "execution_count": 56,
   "metadata": {},
   "outputs": [],
   "source": [
    "X_train, X_test, y_train, y_test = train_test_split(X, y, test_size=0.3, random_state=0)"
   ]
  },
  {
   "cell_type": "code",
   "execution_count": 57,
   "metadata": {},
   "outputs": [
    {
     "data": {
      "text/plain": [
       "60     versicolor\n",
       "116     virginica\n",
       "144     virginica\n",
       "119     virginica\n",
       "108     virginica\n",
       "Name: species, dtype: object"
      ]
     },
     "execution_count": 57,
     "metadata": {},
     "output_type": "execute_result"
    }
   ],
   "source": [
    "y_train.head()"
   ]
  },
  {
   "cell_type": "code",
   "execution_count": 58,
   "metadata": {},
   "outputs": [],
   "source": [
    "labels = ['setosa', 'versicolor', 'virginica']"
   ]
  },
  {
   "cell_type": "code",
   "execution_count": 59,
   "metadata": {},
   "outputs": [],
   "source": [
    "feature_columns = [\n",
    "    tf.feature_column.numeric_column(key=key)\n",
    "    for key in X_train.columns\n",
    "]"
   ]
  },
  {
   "cell_type": "code",
   "execution_count": 60,
   "metadata": {},
   "outputs": [
    {
     "data": {
      "text/plain": [
       "[_NumericColumn(key='sepal_length', shape=(1,), default_value=None, dtype=tf.float32, normalizer_fn=None),\n",
       " _NumericColumn(key='sepal_width', shape=(1,), default_value=None, dtype=tf.float32, normalizer_fn=None),\n",
       " _NumericColumn(key='petal_length', shape=(1,), default_value=None, dtype=tf.float32, normalizer_fn=None),\n",
       " _NumericColumn(key='petal_width', shape=(1,), default_value=None, dtype=tf.float32, normalizer_fn=None)]"
      ]
     },
     "execution_count": 60,
     "metadata": {},
     "output_type": "execute_result"
    }
   ],
   "source": [
    "feature_columns"
   ]
  },
  {
   "cell_type": "markdown",
   "metadata": {},
   "source": [
    "## Canned Estimators"
   ]
  },
  {
   "cell_type": "code",
   "execution_count": 61,
   "metadata": {},
   "outputs": [],
   "source": [
    "rm -rf ./models/iris/"
   ]
  },
  {
   "cell_type": "code",
   "execution_count": 62,
   "metadata": {},
   "outputs": [
    {
     "name": "stdout",
     "output_type": "stream",
     "text": [
      "INFO:tensorflow:Using default config.\n",
      "INFO:tensorflow:Using config: {'_model_dir': './models/iris/DNN/', '_tf_random_seed': None, '_save_summary_steps': 100, '_save_checkpoints_steps': None, '_save_checkpoints_secs': 600, '_session_config': allow_soft_placement: true\n",
      "graph_options {\n",
      "  rewrite_options {\n",
      "    meta_optimizer_iterations: ONE\n",
      "  }\n",
      "}\n",
      ", '_keep_checkpoint_max': 5, '_keep_checkpoint_every_n_hours': 10000, '_log_step_count_steps': 100, '_train_distribute': None, '_device_fn': None, '_protocol': None, '_eval_distribute': None, '_experimental_distribute': None, '_service': None, '_cluster_spec': <tensorflow.python.training.server_lib.ClusterSpec object at 0x7f5d7e72ee10>, '_task_type': 'worker', '_task_id': 0, '_global_id_in_cluster': 0, '_master': '', '_evaluation_master': '', '_is_chief': True, '_num_ps_replicas': 0, '_num_worker_replicas': 1}\n"
     ]
    }
   ],
   "source": [
    "model = tf.estimator.DNNClassifier(\n",
    "    hidden_units=[10, 10], \n",
    "    feature_columns=feature_columns,\n",
    "    model_dir='./models/iris/DNN/',\n",
    "    n_classes=3,\n",
    "    label_vocabulary=labels,\n",
    "    optimizer='Adam')"
   ]
  },
  {
   "cell_type": "code",
   "execution_count": 63,
   "metadata": {},
   "outputs": [],
   "source": [
    "batch_size=32\n",
    "train_steps=3000"
   ]
  },
  {
   "cell_type": "markdown",
   "metadata": {},
   "source": [
    "### Input function"
   ]
  },
  {
   "cell_type": "code",
   "execution_count": 64,
   "metadata": {},
   "outputs": [],
   "source": [
    "def input_fn(features, labels, batch_size, shuffle=True, repeat=None):\n",
    "    feature_dict = dict(features)\n",
    "\n",
    "    if labels is None:\n",
    "        inputs = feature_dict\n",
    "    else:\n",
    "        inputs = (feature_dict, labels)\n",
    "        \n",
    "    dataset = tf.data.Dataset.from_tensor_slices(inputs)\n",
    "    \n",
    "    if shuffle:\n",
    "        dataset = dataset.shuffle(1000)\n",
    "    \n",
    "    dataset = dataset.repeat(repeat)\n",
    "\n",
    "    return dataset.batch(batch_size)"
   ]
  },
  {
   "cell_type": "code",
   "execution_count": 65,
   "metadata": {},
   "outputs": [],
   "source": [
    "def train_input_fn():\n",
    "    return input_fn(X_train, y_train, batch_size)"
   ]
  },
  {
   "cell_type": "markdown",
   "metadata": {},
   "source": [
    "### Model Training"
   ]
  },
  {
   "cell_type": "code",
   "execution_count": 66,
   "metadata": {},
   "outputs": [
    {
     "name": "stdout",
     "output_type": "stream",
     "text": [
      "INFO:tensorflow:Calling model_fn.\n",
      "INFO:tensorflow:Done calling model_fn.\n",
      "INFO:tensorflow:Create CheckpointSaverHook.\n",
      "INFO:tensorflow:Graph was finalized.\n",
      "INFO:tensorflow:Running local_init_op.\n",
      "INFO:tensorflow:Done running local_init_op.\n",
      "INFO:tensorflow:Saving checkpoints for 0 into ./models/iris/DNN/model.ckpt.\n",
      "INFO:tensorflow:loss = 44.947083, step = 0\n",
      "INFO:tensorflow:global_step/sec: 191.664\n",
      "INFO:tensorflow:loss = 4.6415973, step = 100 (0.524 sec)\n",
      "INFO:tensorflow:global_step/sec: 245.803\n",
      "INFO:tensorflow:loss = 1.8587031, step = 200 (0.407 sec)\n",
      "INFO:tensorflow:global_step/sec: 241.025\n",
      "INFO:tensorflow:loss = 1.2581246, step = 300 (0.418 sec)\n",
      "INFO:tensorflow:global_step/sec: 243.464\n",
      "INFO:tensorflow:loss = 4.60306, step = 400 (0.408 sec)\n",
      "INFO:tensorflow:global_step/sec: 233.461\n",
      "INFO:tensorflow:loss = 10.793986, step = 500 (0.429 sec)\n",
      "INFO:tensorflow:global_step/sec: 244.797\n",
      "INFO:tensorflow:loss = 2.0349557, step = 600 (0.409 sec)\n",
      "INFO:tensorflow:global_step/sec: 240.803\n",
      "INFO:tensorflow:loss = 1.910326, step = 700 (0.415 sec)\n",
      "INFO:tensorflow:global_step/sec: 244.293\n",
      "INFO:tensorflow:loss = 0.39580193, step = 800 (0.410 sec)\n",
      "INFO:tensorflow:global_step/sec: 244.496\n",
      "INFO:tensorflow:loss = 1.3887312, step = 900 (0.408 sec)\n",
      "INFO:tensorflow:global_step/sec: 241.379\n",
      "INFO:tensorflow:loss = 0.2620118, step = 1000 (0.414 sec)\n",
      "INFO:tensorflow:global_step/sec: 245.254\n",
      "INFO:tensorflow:loss = 2.5445914, step = 1100 (0.408 sec)\n",
      "INFO:tensorflow:global_step/sec: 245.801\n",
      "INFO:tensorflow:loss = 2.9014726, step = 1200 (0.407 sec)\n",
      "INFO:tensorflow:global_step/sec: 245.612\n",
      "INFO:tensorflow:loss = 0.1935909, step = 1300 (0.407 sec)\n",
      "INFO:tensorflow:global_step/sec: 248.32\n",
      "INFO:tensorflow:loss = 0.03409497, step = 1400 (0.403 sec)\n",
      "INFO:tensorflow:global_step/sec: 240.982\n",
      "INFO:tensorflow:loss = 0.26970518, step = 1500 (0.416 sec)\n",
      "INFO:tensorflow:global_step/sec: 241.09\n",
      "INFO:tensorflow:loss = 0.022411697, step = 1600 (0.415 sec)\n",
      "INFO:tensorflow:global_step/sec: 244.028\n",
      "INFO:tensorflow:loss = 0.14172985, step = 1700 (0.410 sec)\n",
      "INFO:tensorflow:global_step/sec: 243.672\n",
      "INFO:tensorflow:loss = 1.199049, step = 1800 (0.410 sec)\n",
      "INFO:tensorflow:global_step/sec: 246.281\n",
      "INFO:tensorflow:loss = 1.5685245, step = 1900 (0.406 sec)\n",
      "INFO:tensorflow:global_step/sec: 236.682\n",
      "INFO:tensorflow:loss = 0.7598793, step = 2000 (0.423 sec)\n",
      "INFO:tensorflow:global_step/sec: 241.606\n",
      "INFO:tensorflow:loss = 0.5755092, step = 2100 (0.413 sec)\n",
      "INFO:tensorflow:global_step/sec: 240.614\n",
      "INFO:tensorflow:loss = 3.691117, step = 2200 (0.416 sec)\n",
      "INFO:tensorflow:global_step/sec: 245.567\n",
      "INFO:tensorflow:loss = 2.3978627, step = 2300 (0.407 sec)\n",
      "INFO:tensorflow:global_step/sec: 232.511\n",
      "INFO:tensorflow:loss = 0.5398401, step = 2400 (0.430 sec)\n",
      "INFO:tensorflow:global_step/sec: 245.029\n",
      "INFO:tensorflow:loss = 0.8066562, step = 2500 (0.408 sec)\n",
      "INFO:tensorflow:global_step/sec: 245.467\n",
      "INFO:tensorflow:loss = 5.5464215, step = 2600 (0.408 sec)\n",
      "INFO:tensorflow:global_step/sec: 238.154\n",
      "INFO:tensorflow:loss = 0.95377874, step = 2700 (0.422 sec)\n",
      "INFO:tensorflow:global_step/sec: 238.588\n",
      "INFO:tensorflow:loss = 0.24984704, step = 2800 (0.417 sec)\n",
      "INFO:tensorflow:global_step/sec: 237.284\n",
      "INFO:tensorflow:loss = 0.008336272, step = 2900 (0.422 sec)\n",
      "INFO:tensorflow:Saving checkpoints for 3000 into ./models/iris/DNN/model.ckpt.\n",
      "INFO:tensorflow:Loss for final step: 1.1199785.\n"
     ]
    },
    {
     "data": {
      "text/plain": [
       "<tensorflow.python.estimator.canned.dnn.DNNClassifier at 0x7f5d7e72e0f0>"
      ]
     },
     "execution_count": 66,
     "metadata": {},
     "output_type": "execute_result"
    }
   ],
   "source": [
    "model.train(\n",
    "    input_fn=train_input_fn,\n",
    "    steps=3000)"
   ]
  },
  {
   "cell_type": "markdown",
   "metadata": {},
   "source": [
    "### Evaluate model on train and test data"
   ]
  },
  {
   "cell_type": "code",
   "execution_count": 17,
   "metadata": {},
   "outputs": [
    {
     "name": "stdout",
     "output_type": "stream",
     "text": [
      "INFO:tensorflow:Calling model_fn.\n",
      "INFO:tensorflow:Done calling model_fn.\n",
      "INFO:tensorflow:Starting evaluation at 2018-11-23-12:02:29\n",
      "INFO:tensorflow:Graph was finalized.\n",
      "INFO:tensorflow:Restoring parameters from ./models/iris/DNN/model.ckpt-3000\n",
      "INFO:tensorflow:Running local_init_op.\n",
      "INFO:tensorflow:Done running local_init_op.\n",
      "INFO:tensorflow:Finished evaluation at 2018-11-23-12:02:29\n",
      "INFO:tensorflow:Saving dict for global step 3000: accuracy = 0.9809524, average_loss = 0.024422603, global_step = 3000, loss = 0.6410933\n",
      "INFO:tensorflow:Saving 'checkpoint_path' summary for global step 3000: ./models/iris/DNN/model.ckpt-3000\n",
      "INFO:tensorflow:Calling model_fn.\n",
      "INFO:tensorflow:Done calling model_fn.\n",
      "INFO:tensorflow:Starting evaluation at 2018-11-23-12:02:29\n",
      "INFO:tensorflow:Graph was finalized.\n",
      "INFO:tensorflow:Restoring parameters from ./models/iris/DNN/model.ckpt-3000\n",
      "INFO:tensorflow:Running local_init_op.\n",
      "INFO:tensorflow:Done running local_init_op.\n",
      "INFO:tensorflow:Finished evaluation at 2018-11-23-12:02:30\n",
      "INFO:tensorflow:Saving dict for global step 3000: accuracy = 0.9777778, average_loss = 0.12057793, global_step = 3000, loss = 2.7130034\n",
      "INFO:tensorflow:Saving 'checkpoint_path' summary for global step 3000: ./models/iris/DNN/model.ckpt-3000\n"
     ]
    }
   ],
   "source": [
    "train_eval_result = model.evaluate(\n",
    "    input_fn=lambda:input_fn(X_train, y_train,\n",
    "                             batch_size,\n",
    "                             shuffle=False,\n",
    "                             repeat=1))\n",
    "\n",
    "test_eval_result = model.evaluate(\n",
    "    input_fn=lambda:input_fn(X_test, y_test,\n",
    "                             batch_size,\n",
    "                             shuffle=False,\n",
    "                             repeat=1))"
   ]
  },
  {
   "cell_type": "code",
   "execution_count": 18,
   "metadata": {},
   "outputs": [
    {
     "data": {
      "text/plain": [
       "{'accuracy': 0.9809524,\n",
       " 'average_loss': 0.024422603,\n",
       " 'loss': 0.6410933,\n",
       " 'global_step': 3000}"
      ]
     },
     "execution_count": 18,
     "metadata": {},
     "output_type": "execute_result"
    }
   ],
   "source": [
    "train_eval_result"
   ]
  },
  {
   "cell_type": "code",
   "execution_count": 19,
   "metadata": {},
   "outputs": [
    {
     "data": {
      "text/plain": [
       "{'accuracy': 0.9777778,\n",
       " 'average_loss': 0.12057793,\n",
       " 'loss': 2.7130034,\n",
       " 'global_step': 3000}"
      ]
     },
     "execution_count": 19,
     "metadata": {},
     "output_type": "execute_result"
    }
   ],
   "source": [
    "test_eval_result"
   ]
  },
  {
   "cell_type": "markdown",
   "metadata": {},
   "source": [
    "### Predict on new data"
   ]
  },
  {
   "cell_type": "code",
   "execution_count": 20,
   "metadata": {},
   "outputs": [],
   "source": [
    "predict_x = {\n",
    "    'sepal_length': [5.1, 5.9, 6.9],\n",
    "    'sepal_width': [3.3, 3.0, 3.1],\n",
    "    'petal_length': [1.7, 4.2, 5.4],\n",
    "    'petal_width': [0.5, 1.5, 2.1],\n",
    "}"
   ]
  },
  {
   "cell_type": "code",
   "execution_count": 21,
   "metadata": {},
   "outputs": [],
   "source": [
    "expected = ['setosa', 'versicolor', 'virginica']"
   ]
  },
  {
   "cell_type": "code",
   "execution_count": 22,
   "metadata": {},
   "outputs": [],
   "source": [
    "predictions = model.predict(\n",
    "    input_fn=lambda:input_fn(predict_x,\n",
    "                             labels=None,\n",
    "                             batch_size=batch_size,\n",
    "                             shuffle=False,\n",
    "                             repeat=1))"
   ]
  },
  {
   "cell_type": "code",
   "execution_count": 23,
   "metadata": {},
   "outputs": [
    {
     "data": {
      "text/plain": [
       "<generator object Estimator.predict at 0x7f5d06e17e60>"
      ]
     },
     "execution_count": 23,
     "metadata": {},
     "output_type": "execute_result"
    }
   ],
   "source": [
    "predictions"
   ]
  },
  {
   "cell_type": "code",
   "execution_count": 24,
   "metadata": {},
   "outputs": [
    {
     "name": "stdout",
     "output_type": "stream",
     "text": [
      "INFO:tensorflow:Calling model_fn.\n",
      "INFO:tensorflow:Done calling model_fn.\n",
      "INFO:tensorflow:Graph was finalized.\n",
      "INFO:tensorflow:Restoring parameters from ./models/iris/DNN/model.ckpt-3000\n",
      "INFO:tensorflow:Running local_init_op.\n",
      "INFO:tensorflow:Done running local_init_op.\n",
      "\n",
      "Prediction is \"setosa\", prob: 100.0%, expected \"setosa\"\n",
      "\n",
      "Prediction is \"versicolor\", prob: 99.9%, expected \"versicolor\"\n",
      "\n",
      "Prediction is \"virginica\", prob: 99.9%, expected \"virginica\"\n"
     ]
    }
   ],
   "source": [
    "template = ('\\nPrediction is \"{}\", prob: {:.1f}%, expected \"{}\"')\n",
    "\n",
    "for pred_dict, expec in zip(predictions, expected):\n",
    "    \n",
    "    class_id = pred_dict['class_ids'][0]\n",
    "    probability = pred_dict['probabilities'][class_id]\n",
    "    pred_label = labels[class_id]\n",
    "\n",
    "    print(template.format(pred_label, 100 * probability, expec))"
   ]
  },
  {
   "cell_type": "code",
   "execution_count": 25,
   "metadata": {},
   "outputs": [
    {
     "data": {
      "text/plain": [
       "{'logits': array([-14.221882  ,  -0.39109015,   6.2040877 ], dtype=float32),\n",
       " 'probabilities': array([1.3443757e-09, 1.3650779e-03, 9.9863487e-01], dtype=float32),\n",
       " 'class_ids': array([2]),\n",
       " 'classes': array([b'virginica'], dtype=object)}"
      ]
     },
     "execution_count": 25,
     "metadata": {},
     "output_type": "execute_result"
    }
   ],
   "source": [
    "pred_dict"
   ]
  },
  {
   "cell_type": "markdown",
   "metadata": {},
   "source": [
    "## Exercise 1\n",
    "\n",
    "The `tf.estimator` module offers 2 additional canned classifiers:\n",
    "\n",
    "- `tf.estimator.BaselineClassifier`\n",
    "- `tf.estimator.LinearClassifier`\n",
    "\n",
    "What do they do?\n",
    "\n",
    "Try substituting them in the model definition and re-run the trainin, evaluation and prediction steps.\n",
    "Is the performance better or worse?\n",
    "\n",
    "Note: you can set the logging level of tensorflow with `tf.logging.set_verbosity`"
   ]
  },
  {
   "cell_type": "code",
   "execution_count": 34,
   "metadata": {},
   "outputs": [],
   "source": [
    "!rm -rf ./models/iris/"
   ]
  },
  {
   "cell_type": "code",
   "execution_count": 35,
   "metadata": {
    "collapsed": true
   },
   "outputs": [
    {
     "name": "stdout",
     "output_type": "stream",
     "text": [
      "INFO:tensorflow:Using default config.\n",
      "INFO:tensorflow:Using config: {'_model_dir': './models/iris/DNN/', '_tf_random_seed': None, '_save_summary_steps': 100, '_save_checkpoints_steps': None, '_save_checkpoints_secs': 600, '_session_config': allow_soft_placement: true\n",
      "graph_options {\n",
      "  rewrite_options {\n",
      "    meta_optimizer_iterations: ONE\n",
      "  }\n",
      "}\n",
      ", '_keep_checkpoint_max': 5, '_keep_checkpoint_every_n_hours': 10000, '_log_step_count_steps': 100, '_train_distribute': None, '_device_fn': None, '_protocol': None, '_eval_distribute': None, '_experimental_distribute': None, '_service': None, '_cluster_spec': <tensorflow.python.training.server_lib.ClusterSpec object at 0x7f5d05ea5390>, '_task_type': 'worker', '_task_id': 0, '_global_id_in_cluster': 0, '_master': '', '_evaluation_master': '', '_is_chief': True, '_num_ps_replicas': 0, '_num_worker_replicas': 1}\n"
     ]
    }
   ],
   "source": [
    "model = tf.estimator.BaselineClassifier(\n",
    "    model_dir='./models/iris/DNN/',\n",
    "    n_classes=3,\n",
    "    label_vocabulary=labels,\n",
    "    optimizer='Adam')"
   ]
  },
  {
   "cell_type": "code",
   "execution_count": 36,
   "metadata": {},
   "outputs": [
    {
     "name": "stdout",
     "output_type": "stream",
     "text": [
      "INFO:tensorflow:Calling model_fn.\n",
      "INFO:tensorflow:Done calling model_fn.\n",
      "INFO:tensorflow:Create CheckpointSaverHook.\n",
      "INFO:tensorflow:Graph was finalized.\n",
      "INFO:tensorflow:Running local_init_op.\n",
      "INFO:tensorflow:Done running local_init_op.\n",
      "INFO:tensorflow:Saving checkpoints for 0 into ./models/iris/DNN/model.ckpt.\n",
      "INFO:tensorflow:loss = 35.155594, step = 0\n",
      "INFO:tensorflow:global_step/sec: 259.788\n",
      "INFO:tensorflow:loss = 34.99904, step = 100 (0.387 sec)\n",
      "INFO:tensorflow:global_step/sec: 336.44\n",
      "INFO:tensorflow:loss = 34.378803, step = 200 (0.297 sec)\n",
      "INFO:tensorflow:global_step/sec: 334.555\n",
      "INFO:tensorflow:loss = 35.381622, step = 300 (0.299 sec)\n",
      "INFO:tensorflow:global_step/sec: 320.086\n",
      "INFO:tensorflow:loss = 34.52932, step = 400 (0.312 sec)\n",
      "INFO:tensorflow:global_step/sec: 328.189\n",
      "INFO:tensorflow:loss = 35.75821, step = 500 (0.305 sec)\n",
      "INFO:tensorflow:global_step/sec: 333.033\n",
      "INFO:tensorflow:loss = 36.3349, step = 600 (0.302 sec)\n",
      "INFO:tensorflow:global_step/sec: 331.124\n",
      "INFO:tensorflow:loss = 34.58584, step = 700 (0.302 sec)\n",
      "INFO:tensorflow:global_step/sec: 320.723\n",
      "INFO:tensorflow:loss = 35.017212, step = 800 (0.309 sec)\n",
      "INFO:tensorflow:global_step/sec: 337.221\n",
      "INFO:tensorflow:loss = 34.928467, step = 900 (0.296 sec)\n",
      "INFO:tensorflow:global_step/sec: 324.893\n",
      "INFO:tensorflow:loss = 35.19627, step = 1000 (0.308 sec)\n",
      "INFO:tensorflow:global_step/sec: 328.174\n",
      "INFO:tensorflow:loss = 35.24284, step = 1100 (0.307 sec)\n",
      "INFO:tensorflow:global_step/sec: 337.305\n",
      "INFO:tensorflow:loss = 35.387993, step = 1200 (0.294 sec)\n",
      "INFO:tensorflow:global_step/sec: 336.693\n",
      "INFO:tensorflow:loss = 35.666565, step = 1300 (0.297 sec)\n",
      "INFO:tensorflow:global_step/sec: 330.8\n",
      "INFO:tensorflow:loss = 35.210873, step = 1400 (0.303 sec)\n",
      "INFO:tensorflow:global_step/sec: 336.494\n",
      "INFO:tensorflow:loss = 34.98136, step = 1500 (0.297 sec)\n",
      "INFO:tensorflow:global_step/sec: 331.691\n",
      "INFO:tensorflow:loss = 35.454487, step = 1600 (0.302 sec)\n",
      "INFO:tensorflow:global_step/sec: 330.137\n",
      "INFO:tensorflow:loss = 35.660233, step = 1700 (0.303 sec)\n",
      "INFO:tensorflow:global_step/sec: 336.581\n",
      "INFO:tensorflow:loss = 35.153408, step = 1800 (0.297 sec)\n",
      "INFO:tensorflow:global_step/sec: 337.106\n",
      "INFO:tensorflow:loss = 35.41953, step = 1900 (0.297 sec)\n",
      "INFO:tensorflow:global_step/sec: 330.886\n",
      "INFO:tensorflow:loss = 35.261246, step = 2000 (0.302 sec)\n",
      "INFO:tensorflow:global_step/sec: 324.883\n",
      "INFO:tensorflow:loss = 36.009476, step = 2100 (0.308 sec)\n",
      "INFO:tensorflow:global_step/sec: 339.667\n",
      "INFO:tensorflow:loss = 34.941223, step = 2200 (0.294 sec)\n",
      "INFO:tensorflow:global_step/sec: 337.427\n",
      "INFO:tensorflow:loss = 35.20239, step = 2300 (0.297 sec)\n",
      "INFO:tensorflow:global_step/sec: 326.792\n",
      "INFO:tensorflow:loss = 34.295525, step = 2400 (0.307 sec)\n",
      "INFO:tensorflow:global_step/sec: 328.246\n",
      "INFO:tensorflow:loss = 34.816063, step = 2500 (0.304 sec)\n",
      "INFO:tensorflow:global_step/sec: 328.047\n",
      "INFO:tensorflow:loss = 34.30247, step = 2600 (0.304 sec)\n",
      "INFO:tensorflow:global_step/sec: 333.001\n",
      "INFO:tensorflow:loss = 35.394035, step = 2700 (0.300 sec)\n",
      "INFO:tensorflow:global_step/sec: 324.034\n",
      "INFO:tensorflow:loss = 35.472603, step = 2800 (0.309 sec)\n",
      "INFO:tensorflow:global_step/sec: 340.559\n",
      "INFO:tensorflow:loss = 34.92569, step = 2900 (0.295 sec)\n",
      "INFO:tensorflow:Saving checkpoints for 3000 into ./models/iris/DNN/model.ckpt.\n",
      "INFO:tensorflow:Loss for final step: 34.023468.\n",
      "INFO:tensorflow:Calling model_fn.\n",
      "INFO:tensorflow:Done calling model_fn.\n",
      "INFO:tensorflow:Starting evaluation at 2018-11-23-12:13:13\n",
      "INFO:tensorflow:Graph was finalized.\n",
      "INFO:tensorflow:Restoring parameters from ./models/iris/DNN/model.ckpt-3000\n",
      "INFO:tensorflow:Running local_init_op.\n",
      "INFO:tensorflow:Done running local_init_op.\n",
      "INFO:tensorflow:Finished evaluation at 2018-11-23-12:13:13\n",
      "INFO:tensorflow:Saving dict for global step 3000: accuracy = 0.37142858, average_loss = 1.1013455, global_step = 3000, loss = 28.91032\n",
      "INFO:tensorflow:Saving 'checkpoint_path' summary for global step 3000: ./models/iris/DNN/model.ckpt-3000\n",
      "INFO:tensorflow:Calling model_fn.\n",
      "INFO:tensorflow:Done calling model_fn.\n",
      "INFO:tensorflow:Starting evaluation at 2018-11-23-12:13:14\n",
      "INFO:tensorflow:Graph was finalized.\n",
      "INFO:tensorflow:Restoring parameters from ./models/iris/DNN/model.ckpt-3000\n",
      "INFO:tensorflow:Running local_init_op.\n",
      "INFO:tensorflow:Done running local_init_op.\n",
      "INFO:tensorflow:Finished evaluation at 2018-11-23-12:13:14\n",
      "INFO:tensorflow:Saving dict for global step 3000: accuracy = 0.24444444, average_loss = 1.1533835, global_step = 3000, loss = 25.951128\n",
      "INFO:tensorflow:Saving 'checkpoint_path' summary for global step 3000: ./models/iris/DNN/model.ckpt-3000\n"
     ]
    }
   ],
   "source": [
    "model.train(\n",
    "    input_fn=train_input_fn,\n",
    "    steps=3000)\n",
    "train_eval_result = model.evaluate(\n",
    "    input_fn=lambda:input_fn(X_train, y_train,\n",
    "                             batch_size,\n",
    "                             shuffle=False,\n",
    "                             repeat=1))\n",
    "\n",
    "test_eval_result = model.evaluate(\n",
    "    input_fn=lambda:input_fn(X_test, y_test,\n",
    "                             batch_size,\n",
    "                             shuffle=False,\n",
    "                             repeat=1))"
   ]
  },
  {
   "cell_type": "code",
   "execution_count": 37,
   "metadata": {},
   "outputs": [
    {
     "data": {
      "text/plain": [
       "{'accuracy': 0.37142858,\n",
       " 'average_loss': 1.1013455,\n",
       " 'loss': 28.91032,\n",
       " 'global_step': 3000}"
      ]
     },
     "execution_count": 37,
     "metadata": {},
     "output_type": "execute_result"
    }
   ],
   "source": [
    "train_eval_result"
   ]
  },
  {
   "cell_type": "code",
   "execution_count": 38,
   "metadata": {},
   "outputs": [
    {
     "data": {
      "text/plain": [
       "{'accuracy': 0.24444444,\n",
       " 'average_loss': 1.1533835,\n",
       " 'loss': 25.951128,\n",
       " 'global_step': 3000}"
      ]
     },
     "execution_count": 38,
     "metadata": {},
     "output_type": "execute_result"
    }
   ],
   "source": [
    "test_eval_result"
   ]
  },
  {
   "cell_type": "code",
   "execution_count": 39,
   "metadata": {},
   "outputs": [],
   "source": [
    "!rm -rf ./models/iris/"
   ]
  },
  {
   "cell_type": "code",
   "execution_count": 40,
   "metadata": {},
   "outputs": [
    {
     "name": "stdout",
     "output_type": "stream",
     "text": [
      "INFO:tensorflow:Using default config.\n",
      "INFO:tensorflow:Using config: {'_model_dir': './models/iris/DNN/', '_tf_random_seed': None, '_save_summary_steps': 100, '_save_checkpoints_steps': None, '_save_checkpoints_secs': 600, '_session_config': allow_soft_placement: true\n",
      "graph_options {\n",
      "  rewrite_options {\n",
      "    meta_optimizer_iterations: ONE\n",
      "  }\n",
      "}\n",
      ", '_keep_checkpoint_max': 5, '_keep_checkpoint_every_n_hours': 10000, '_log_step_count_steps': 100, '_train_distribute': None, '_device_fn': None, '_protocol': None, '_eval_distribute': None, '_experimental_distribute': None, '_service': None, '_cluster_spec': <tensorflow.python.training.server_lib.ClusterSpec object at 0x7f5d05ea5470>, '_task_type': 'worker', '_task_id': 0, '_global_id_in_cluster': 0, '_master': '', '_evaluation_master': '', '_is_chief': True, '_num_ps_replicas': 0, '_num_worker_replicas': 1}\n"
     ]
    }
   ],
   "source": [
    "model = tf.estimator.LinearClassifier(\n",
    "    feature_columns=feature_columns,\n",
    "    model_dir='./models/iris/DNN/',\n",
    "    n_classes=3,\n",
    "    label_vocabulary=labels,\n",
    "    optimizer='Adam')"
   ]
  },
  {
   "cell_type": "code",
   "execution_count": 41,
   "metadata": {},
   "outputs": [
    {
     "name": "stdout",
     "output_type": "stream",
     "text": [
      "INFO:tensorflow:Calling model_fn.\n",
      "INFO:tensorflow:Done calling model_fn.\n",
      "INFO:tensorflow:Create CheckpointSaverHook.\n",
      "INFO:tensorflow:Graph was finalized.\n",
      "INFO:tensorflow:Running local_init_op.\n",
      "INFO:tensorflow:Done running local_init_op.\n",
      "INFO:tensorflow:Saving checkpoints for 0 into ./models/iris/DNN/model.ckpt.\n",
      "INFO:tensorflow:loss = 35.155594, step = 0\n",
      "INFO:tensorflow:global_step/sec: 208.15\n",
      "INFO:tensorflow:loss = 5.6855087, step = 100 (0.482 sec)\n",
      "INFO:tensorflow:global_step/sec: 276.607\n",
      "INFO:tensorflow:loss = 3.643992, step = 200 (0.361 sec)\n",
      "INFO:tensorflow:global_step/sec: 279.711\n",
      "INFO:tensorflow:loss = 1.8684633, step = 300 (0.358 sec)\n",
      "INFO:tensorflow:global_step/sec: 268.375\n",
      "INFO:tensorflow:loss = 1.2505344, step = 400 (0.373 sec)\n",
      "INFO:tensorflow:global_step/sec: 269.104\n",
      "INFO:tensorflow:loss = 2.4427412, step = 500 (0.372 sec)\n",
      "INFO:tensorflow:global_step/sec: 275.696\n",
      "INFO:tensorflow:loss = 1.7454394, step = 600 (0.363 sec)\n",
      "INFO:tensorflow:global_step/sec: 278.988\n",
      "INFO:tensorflow:loss = 1.7803776, step = 700 (0.358 sec)\n",
      "INFO:tensorflow:global_step/sec: 272.754\n",
      "INFO:tensorflow:loss = 0.1828709, step = 800 (0.367 sec)\n",
      "INFO:tensorflow:global_step/sec: 276.615\n",
      "INFO:tensorflow:loss = 2.4417253, step = 900 (0.361 sec)\n",
      "INFO:tensorflow:global_step/sec: 262.809\n",
      "INFO:tensorflow:loss = 0.49725932, step = 1000 (0.381 sec)\n",
      "INFO:tensorflow:global_step/sec: 265.677\n",
      "INFO:tensorflow:loss = 0.38288704, step = 1100 (0.376 sec)\n",
      "INFO:tensorflow:global_step/sec: 276.92\n",
      "INFO:tensorflow:loss = 11.024813, step = 1200 (0.361 sec)\n",
      "INFO:tensorflow:global_step/sec: 277.6\n",
      "INFO:tensorflow:loss = 0.8560426, step = 1300 (0.360 sec)\n",
      "INFO:tensorflow:global_step/sec: 273.978\n",
      "INFO:tensorflow:loss = 1.091799, step = 1400 (0.365 sec)\n",
      "INFO:tensorflow:global_step/sec: 272.261\n",
      "INFO:tensorflow:loss = 0.854101, step = 1500 (0.367 sec)\n",
      "INFO:tensorflow:global_step/sec: 274.921\n",
      "INFO:tensorflow:loss = 1.9046897, step = 1600 (0.363 sec)\n",
      "INFO:tensorflow:global_step/sec: 275.622\n",
      "INFO:tensorflow:loss = 0.9175075, step = 1700 (0.363 sec)\n",
      "INFO:tensorflow:global_step/sec: 281.144\n",
      "INFO:tensorflow:loss = 2.9916513, step = 1800 (0.356 sec)\n",
      "INFO:tensorflow:global_step/sec: 271.578\n",
      "INFO:tensorflow:loss = 0.050216384, step = 1900 (0.368 sec)\n",
      "INFO:tensorflow:global_step/sec: 275.708\n",
      "INFO:tensorflow:loss = 1.5240964, step = 2000 (0.363 sec)\n",
      "INFO:tensorflow:global_step/sec: 274.831\n",
      "INFO:tensorflow:loss = 0.81721735, step = 2100 (0.366 sec)\n",
      "INFO:tensorflow:global_step/sec: 266.3\n",
      "INFO:tensorflow:loss = 0.09385477, step = 2200 (0.374 sec)\n",
      "INFO:tensorflow:global_step/sec: 280.628\n",
      "INFO:tensorflow:loss = 0.7651309, step = 2300 (0.355 sec)\n",
      "INFO:tensorflow:global_step/sec: 265.197\n",
      "INFO:tensorflow:loss = 2.2396874, step = 2400 (0.377 sec)\n",
      "INFO:tensorflow:global_step/sec: 272.824\n",
      "INFO:tensorflow:loss = 0.58282924, step = 2500 (0.367 sec)\n",
      "INFO:tensorflow:global_step/sec: 277.759\n",
      "INFO:tensorflow:loss = 0.897039, step = 2600 (0.359 sec)\n",
      "INFO:tensorflow:global_step/sec: 276.96\n",
      "INFO:tensorflow:loss = 0.6979135, step = 2700 (0.362 sec)\n",
      "INFO:tensorflow:global_step/sec: 275.115\n",
      "INFO:tensorflow:loss = 0.36984038, step = 2800 (0.364 sec)\n",
      "INFO:tensorflow:global_step/sec: 274.629\n",
      "INFO:tensorflow:loss = 0.85346633, step = 2900 (0.363 sec)\n",
      "INFO:tensorflow:Saving checkpoints for 3000 into ./models/iris/DNN/model.ckpt.\n",
      "INFO:tensorflow:Loss for final step: 1.2426193.\n",
      "INFO:tensorflow:Calling model_fn.\n",
      "INFO:tensorflow:Done calling model_fn.\n",
      "INFO:tensorflow:Starting evaluation at 2018-11-23-12:13:51\n",
      "INFO:tensorflow:Graph was finalized.\n",
      "INFO:tensorflow:Restoring parameters from ./models/iris/DNN/model.ckpt-3000\n",
      "INFO:tensorflow:Running local_init_op.\n",
      "INFO:tensorflow:Done running local_init_op.\n",
      "INFO:tensorflow:Finished evaluation at 2018-11-23-12:13:51\n",
      "INFO:tensorflow:Saving dict for global step 3000: accuracy = 0.9809524, average_loss = 0.0311858, global_step = 3000, loss = 0.81862724\n",
      "INFO:tensorflow:Saving 'checkpoint_path' summary for global step 3000: ./models/iris/DNN/model.ckpt-3000\n",
      "INFO:tensorflow:Calling model_fn.\n",
      "INFO:tensorflow:Done calling model_fn.\n",
      "INFO:tensorflow:Starting evaluation at 2018-11-23-12:13:51\n",
      "INFO:tensorflow:Graph was finalized.\n",
      "INFO:tensorflow:Restoring parameters from ./models/iris/DNN/model.ckpt-3000\n",
      "INFO:tensorflow:Running local_init_op.\n",
      "INFO:tensorflow:Done running local_init_op.\n",
      "INFO:tensorflow:Finished evaluation at 2018-11-23-12:13:52\n",
      "INFO:tensorflow:Saving dict for global step 3000: accuracy = 0.95555556, average_loss = 0.10346401, global_step = 3000, loss = 2.3279402\n",
      "INFO:tensorflow:Saving 'checkpoint_path' summary for global step 3000: ./models/iris/DNN/model.ckpt-3000\n"
     ]
    }
   ],
   "source": [
    "model.train(\n",
    "    input_fn=train_input_fn,\n",
    "    steps=3000)\n",
    "train_eval_result = model.evaluate(\n",
    "    input_fn=lambda:input_fn(X_train, y_train,\n",
    "                             batch_size,\n",
    "                             shuffle=False,\n",
    "                             repeat=1))\n",
    "\n",
    "test_eval_result = model.evaluate(\n",
    "    input_fn=lambda:input_fn(X_test, y_test,\n",
    "                             batch_size,\n",
    "                             shuffle=False,\n",
    "                             repeat=1))"
   ]
  },
  {
   "cell_type": "code",
   "execution_count": 42,
   "metadata": {},
   "outputs": [
    {
     "data": {
      "text/plain": [
       "{'accuracy': 0.9809524,\n",
       " 'average_loss': 0.0311858,\n",
       " 'loss': 0.81862724,\n",
       " 'global_step': 3000}"
      ]
     },
     "execution_count": 42,
     "metadata": {},
     "output_type": "execute_result"
    }
   ],
   "source": [
    "train_eval_result"
   ]
  },
  {
   "cell_type": "code",
   "execution_count": 43,
   "metadata": {},
   "outputs": [
    {
     "data": {
      "text/plain": [
       "{'accuracy': 0.95555556,\n",
       " 'average_loss': 0.10346401,\n",
       " 'loss': 2.3279402,\n",
       " 'global_step': 3000}"
      ]
     },
     "execution_count": 43,
     "metadata": {},
     "output_type": "execute_result"
    }
   ],
   "source": [
    "test_eval_result"
   ]
  },
  {
   "cell_type": "markdown",
   "metadata": {},
   "source": [
    "## Exercise 2\n",
    "\n",
    "Visualize the training results with tensorboard:\n",
    "\n",
    "- in a terminal, from the notebook folder, run tensorboard with `tensorboard --logdir=models`\n",
    "- open the browser at [http://localhost:6006](http://localhost:6006)\n",
    "\n"
   ]
  },
  {
   "cell_type": "code",
   "execution_count": 70,
   "metadata": {
    "collapsed": true
   },
   "outputs": [
    {
     "name": "stdout",
     "output_type": "stream",
     "text": [
      "checkpoint                        model.ckpt-0.meta\n",
      "graph.pbtxt                       model.ckpt-3000.data-00000-of-00002\n",
      "model.ckpt-0.data-00000-of-00002  model.ckpt-3000.data-00001-of-00002\n",
      "model.ckpt-0.data-00001-of-00002  model.ckpt-3000.index\n",
      "model.ckpt-0.index                model.ckpt-3000.meta\n"
     ]
    }
   ],
   "source": [
    "ls ./models/iris/DNN"
   ]
  },
  {
   "cell_type": "code",
   "execution_count": 50,
   "metadata": {},
   "outputs": [
    {
     "name": "stdout",
     "output_type": "stream",
     "text": [
      "./models/iris/DNN/checkpoint\n"
     ]
    }
   ],
   "source": [
    "ls -rf ./models/iris/DNN/checkpoint"
   ]
  },
  {
   "cell_type": "code",
   "execution_count": null,
   "metadata": {},
   "outputs": [],
   "source": []
  }
 ],
 "metadata": {
  "kernelspec": {
   "display_name": "Python 3",
   "language": "python",
   "name": "python3"
  },
  "language_info": {
   "codemirror_mode": {
    "name": "ipython",
    "version": 3
   },
   "file_extension": ".py",
   "mimetype": "text/x-python",
   "name": "python",
   "nbconvert_exporter": "python",
   "pygments_lexer": "ipython3",
   "version": "3.6.7"
  }
 },
 "nbformat": 4,
 "nbformat_minor": 2
}
