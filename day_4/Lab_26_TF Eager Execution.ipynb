{
 "cells": [
  {
   "cell_type": "markdown",
   "metadata": {},
   "source": [
    "# Eager Execution\n",
    "\n",
    "Adapted from: https://www.tensorflow.org/get_started/eager"
   ]
  },
  {
   "cell_type": "code",
   "execution_count": 1,
   "metadata": {},
   "outputs": [],
   "source": [
    "import os\n",
    "import matplotlib.pyplot as plt\n",
    "\n",
    "import tensorflow as tf\n",
    "import tensorflow.contrib.eager as tfe\n",
    "tf.enable_eager_execution()"
   ]
  },
  {
   "cell_type": "code",
   "execution_count": 2,
   "metadata": {},
   "outputs": [],
   "source": [
    "import pandas as pd\n",
    "import numpy as np\n",
    "%matplotlib inline\n",
    "import matplotlib.pyplot as plt"
   ]
  },
  {
   "cell_type": "code",
   "execution_count": 3,
   "metadata": {},
   "outputs": [],
   "source": [
    "train_dataset_fp = '../data/iris_training.csv'"
   ]
  },
  {
   "cell_type": "code",
   "execution_count": 4,
   "metadata": {},
   "outputs": [
    {
     "name": "stdout",
     "output_type": "stream",
     "text": [
      "120,4,setosa,versicolor,virginica\n",
      "6.4,2.8,5.6,2.2,2\n",
      "5.0,2.3,3.3,1.0,1\n",
      "4.9,2.5,4.5,1.7,2\n",
      "4.9,3.1,1.5,0.1,0\n"
     ]
    }
   ],
   "source": [
    "!head -n5 {train_dataset_fp}"
   ]
  },
  {
   "cell_type": "markdown",
   "metadata": {},
   "source": [
    "## Csv parser"
   ]
  },
  {
   "cell_type": "code",
   "execution_count": 14,
   "metadata": {},
   "outputs": [],
   "source": [
    "def parse_csv(line):\n",
    "    example_defaults = [[0.], [0.], [0.], [0.], [0]]\n",
    "    # parse a line and if it fails -> return defaults\n",
    "    parsed_line = tf.decode_csv(line, example_defaults)\n",
    "    # remove last element (it is the label)\n",
    "    features = tf.reshape(parsed_line[:-1], shape=(4,))\n",
    "    # get last element (it is the the label)\n",
    "    label = tf.reshape(parsed_line[-1], shape=())\n",
    "    return features, label"
   ]
  },
  {
   "cell_type": "markdown",
   "metadata": {},
   "source": [
    "## Dataset API"
   ]
  },
  {
   "cell_type": "code",
   "execution_count": 15,
   "metadata": {},
   "outputs": [],
   "source": [
    "# ALL OF THE FOLLOWING ARE JUST DEFINITIONS (NOT EVALUATED)\n",
    "\n",
    "# the data are text lines\n",
    "train_dataset = tf.data.TextLineDataset(train_dataset_fp)\n",
    "# operations on the dataset\n",
    "train_dataset = train_dataset.skip(1)\n",
    "train_dataset = train_dataset.map(parse_csv)\n",
    "train_dataset = train_dataset.shuffle(buffer_size=1000)\n",
    "train_dataset = train_dataset.batch(32)"
   ]
  },
  {
   "cell_type": "code",
   "execution_count": 7,
   "metadata": {},
   "outputs": [
    {
     "data": {
      "text/plain": [
       "<BatchDataset shapes: ((?, 4), (?,)), types: (tf.float32, tf.int32)>"
      ]
     },
     "execution_count": 7,
     "metadata": {},
     "output_type": "execute_result"
    }
   ],
   "source": [
    "train_dataset"
   ]
  },
  {
   "cell_type": "code",
   "execution_count": 8,
   "metadata": {},
   "outputs": [],
   "source": [
    "features, label = tfe.Iterator(train_dataset).next()"
   ]
  },
  {
   "cell_type": "code",
   "execution_count": 9,
   "metadata": {},
   "outputs": [
    {
     "data": {
      "text/plain": [
       "<tf.Tensor: id=42, shape=(32, 4), dtype=float32, numpy=\n",
       "array([[5.8, 2.6, 4. , 1.2],\n",
       "       [5.1, 2.5, 3. , 1.1],\n",
       "       [6.3, 3.4, 5.6, 2.4],\n",
       "       [4.8, 3. , 1.4, 0.3],\n",
       "       [6.3, 2.5, 5. , 1.9],\n",
       "       [5. , 3.5, 1.6, 0.6],\n",
       "       [6.4, 2.8, 5.6, 2.1],\n",
       "       [5.4, 3.7, 1.5, 0.2],\n",
       "       [4.9, 3.1, 1.5, 0.1],\n",
       "       [6.2, 2.8, 4.8, 1.8],\n",
       "       [4.6, 3.2, 1.4, 0.2],\n",
       "       [4.9, 2.4, 3.3, 1. ],\n",
       "       [4.4, 3. , 1.3, 0.2],\n",
       "       [6.7, 3. , 5. , 1.7],\n",
       "       [5.9, 3. , 5.1, 1.8],\n",
       "       [5.8, 2.8, 5.1, 2.4],\n",
       "       [6.9, 3.2, 5.7, 2.3],\n",
       "       [5.1, 3.7, 1.5, 0.4],\n",
       "       [5.5, 3.5, 1.3, 0.2],\n",
       "       [5.8, 2.7, 5.1, 1.9],\n",
       "       [4.9, 3. , 1.4, 0.2],\n",
       "       [7.6, 3. , 6.6, 2.1],\n",
       "       [7.2, 3.6, 6.1, 2.5],\n",
       "       [5.5, 2.4, 3.7, 1. ],\n",
       "       [5.5, 2.6, 4.4, 1.2],\n",
       "       [6.2, 3.4, 5.4, 2.3],\n",
       "       [6.7, 3. , 5.2, 2.3],\n",
       "       [5.7, 4.4, 1.5, 0.4],\n",
       "       [4.6, 3.1, 1.5, 0.2],\n",
       "       [5.8, 2.7, 5.1, 1.9],\n",
       "       [5. , 2. , 3.5, 1. ],\n",
       "       [7.7, 2.6, 6.9, 2.3]], dtype=float32)>"
      ]
     },
     "execution_count": 9,
     "metadata": {},
     "output_type": "execute_result"
    }
   ],
   "source": [
    "features"
   ]
  },
  {
   "cell_type": "code",
   "execution_count": 11,
   "metadata": {},
   "outputs": [
    {
     "data": {
      "text/plain": [
       "<tf.Tensor: id=43, shape=(32,), dtype=int32, numpy=\n",
       "array([1, 1, 2, 0, 2, 0, 2, 0, 0, 2, 0, 1, 0, 1, 2, 2, 2, 0, 0, 2, 0, 2,\n",
       "       2, 1, 1, 2, 2, 0, 0, 2, 1, 2], dtype=int32)>"
      ]
     },
     "execution_count": 11,
     "metadata": {},
     "output_type": "execute_result"
    }
   ],
   "source": [
    "label"
   ]
  },
  {
   "cell_type": "markdown",
   "metadata": {},
   "source": [
    "## Model"
   ]
  },
  {
   "cell_type": "markdown",
   "metadata": {},
   "source": [
    "Note that the model is outputting the logits, not the softmax probabilities."
   ]
  },
  {
   "cell_type": "code",
   "execution_count": 12,
   "metadata": {},
   "outputs": [],
   "source": [
    "model = tf.keras.Sequential([\n",
    "  tf.keras.layers.Dense(10, activation=\"relu\", input_shape=(4,)),\n",
    "  tf.keras.layers.Dense(10, activation=\"relu\"),\n",
    "  tf.keras.layers.Dense(3)\n",
    "])\n",
    "\n",
    "# There isn't softmax in the last layer -> it is in the Loss definition\n",
    "# The model is already compiled"
   ]
  },
  {
   "cell_type": "code",
   "execution_count": 13,
   "metadata": {},
   "outputs": [
    {
     "data": {
      "text/plain": [
       "<tensorflow.python.keras.engine.sequential.Sequential at 0x7fae180470b8>"
      ]
     },
     "execution_count": 13,
     "metadata": {},
     "output_type": "execute_result"
    }
   ],
   "source": [
    "model"
   ]
  },
  {
   "cell_type": "markdown",
   "metadata": {},
   "source": [
    "model behaves like a function:"
   ]
  },
  {
   "cell_type": "code",
   "execution_count": 16,
   "metadata": {},
   "outputs": [
    {
     "data": {
      "text/plain": [
       "<tf.Tensor: id=158, shape=(32, 3), dtype=float32, numpy=\n",
       "array([[ 2.32125610e-01,  4.15565252e-01,  7.55334675e-01],\n",
       "       [ 1.45915255e-01,  3.39732111e-01,  5.77676654e-01],\n",
       "       [ 4.70583498e-01,  5.45595527e-01,  1.05730402e+00],\n",
       "       [ 1.78894207e-01,  6.18245527e-02,  1.54385895e-01],\n",
       "       [ 2.47207582e-01,  5.91164768e-01,  9.84098554e-01],\n",
       "       [ 2.03181386e-01,  4.92161624e-02,  2.30367348e-01],\n",
       "       [ 3.86199743e-01,  5.55680990e-01,  1.07900405e+00],\n",
       "       [ 2.50824094e-01,  6.11542910e-03,  1.55002087e-01],\n",
       "       [ 2.30737522e-01,  3.30115072e-02,  1.51247948e-01],\n",
       "       [ 2.96985686e-01,  5.04418075e-01,  9.31444705e-01],\n",
       "       [ 2.36132309e-01, -1.61596283e-03,  1.55916944e-01],\n",
       "       [ 2.19439521e-01,  3.09699446e-01,  6.18160963e-01],\n",
       "       [ 2.10128158e-01,  9.60976537e-03,  1.42256200e-01],\n",
       "       [ 2.99015820e-01,  5.25676131e-01,  9.70051944e-01],\n",
       "       [ 4.23117787e-01,  4.56632018e-01,  9.68457580e-01],\n",
       "       [ 3.65196496e-01,  5.41427612e-01,  9.69978631e-01],\n",
       "       [ 3.92788023e-01,  5.68565726e-01,  1.09565294e+00],\n",
       "       [ 2.43330300e-01,  1.05037645e-03,  1.83873370e-01],\n",
       "       [ 1.83013275e-01,  5.20334579e-02,  1.14558995e-01],\n",
       "       [ 3.84693921e-01,  4.78248209e-01,  9.75568295e-01],\n",
       "       [ 1.85846582e-01,  6.15467392e-02,  1.41802013e-01],\n",
       "       [ 4.06065732e-01,  6.90048397e-01,  1.28728712e+00],\n",
       "       [ 4.69066918e-01,  5.87707818e-01,  1.16178524e+00],\n",
       "       [ 2.26484552e-01,  3.79441649e-01,  6.76464260e-01],\n",
       "       [ 3.44167858e-01,  3.66020322e-01,  8.19780231e-01],\n",
       "       [ 4.58440304e-01,  5.21195531e-01,  1.01852417e+00],\n",
       "       [ 2.96464711e-01,  5.85688114e-01,  1.01018763e+00],\n",
       "       [ 2.70352840e-01, -7.63848051e-03,  1.80265978e-01],\n",
       "       [ 2.40404606e-01,  1.15160346e-02,  1.70534968e-01],\n",
       "       [ 3.84693921e-01,  4.78248209e-01,  9.75568295e-01],\n",
       "       [ 1.77479923e-01,  3.97324204e-01,  6.58271492e-01],\n",
       "       [ 3.46917212e-01,  8.06791127e-01,  1.36242568e+00]], dtype=float32)>"
      ]
     },
     "execution_count": 16,
     "metadata": {},
     "output_type": "execute_result"
    }
   ],
   "source": [
    "model(features)"
   ]
  },
  {
   "cell_type": "markdown",
   "metadata": {},
   "source": [
    "In eager mode we can access the values of the weights directly:"
   ]
  },
  {
   "cell_type": "code",
   "execution_count": 17,
   "metadata": {},
   "outputs": [
    {
     "name": "stdout",
     "output_type": "stream",
     "text": [
      "Weight shape:  (4, 10)\n",
      "Weight tensor:  <tf.Variable 'dense/kernel:0' shape=(4, 10) dtype=float32, numpy=\n",
      "array([[-0.5597261 , -0.5302708 , -0.22555679, -0.40110505, -0.19787979,\n",
      "        -0.53712857,  0.23885041, -0.06763422, -0.6162738 , -0.25772834],\n",
      "       [-0.0731492 ,  0.28287697,  0.3720039 ,  0.45500517,  0.15231442,\n",
      "         0.594972  , -0.24334699, -0.48526347, -0.06345344, -0.6415445 ],\n",
      "       [-0.12116504, -0.59067273,  0.3753146 , -0.18778676,  0.37644613,\n",
      "        -0.40600336,  0.3649099 , -0.3854758 , -0.28795213,  0.18952507],\n",
      "       [-0.41607934,  0.2525233 , -0.5210645 ,  0.5286106 ,  0.39524257,\n",
      "         0.32416868, -0.26740727, -0.11725503, -0.5207108 , -0.34261876]],\n",
      "      dtype=float32)>\n",
      "\n",
      "Weight shape:  (10,)\n",
      "Weight tensor:  <tf.Variable 'dense/bias:0' shape=(10,) dtype=float32, numpy=array([0., 0., 0., 0., 0., 0., 0., 0., 0., 0.], dtype=float32)>\n",
      "\n",
      "Weight shape:  (10, 10)\n",
      "Weight tensor:  <tf.Variable 'dense_1/kernel:0' shape=(10, 10) dtype=float32, numpy=\n",
      "array([[ 0.35008913,  0.1163317 ,  0.12071538, -0.17123696,  0.44210964,\n",
      "         0.53202116, -0.32899562, -0.13438433,  0.04938298,  0.54403114],\n",
      "       [-0.11195779, -0.4433899 , -0.46619985,  0.09083909,  0.25319064,\n",
      "        -0.12239745,  0.09316289,  0.31446934,  0.50274956,  0.48748946],\n",
      "       [ 0.11315149, -0.11132249, -0.33854362, -0.11348331,  0.45069587,\n",
      "         0.18836385, -0.37078887,  0.04250538, -0.40147913,  0.3467291 ],\n",
      "       [ 0.2698623 , -0.32160854,  0.0404008 , -0.20123965,  0.24447691,\n",
      "         0.5289211 , -0.5442535 , -0.2855192 , -0.50854367,  0.35702318],\n",
      "       [-0.15485153, -0.07266188,  0.28524536,  0.48489225,  0.28804517,\n",
      "         0.3293957 , -0.30061167,  0.382828  ,  0.24088448,  0.2792765 ],\n",
      "       [ 0.35505247,  0.35543638,  0.11209399, -0.3200231 ,  0.41128087,\n",
      "        -0.37483358, -0.4329624 , -0.2128346 , -0.04537684, -0.5350453 ],\n",
      "       [ 0.08959866, -0.37356818,  0.10978091, -0.29123685,  0.20141828,\n",
      "         0.04291999,  0.38255298,  0.17562795, -0.17542383, -0.51228106],\n",
      "       [ 0.0061965 ,  0.4084257 , -0.18129036,  0.2283985 ,  0.25334358,\n",
      "        -0.19193491,  0.4550079 , -0.25318947,  0.06581795, -0.08500981],\n",
      "       [ 0.01700091, -0.52041703, -0.27243045, -0.35110077, -0.5066815 ,\n",
      "        -0.07797495,  0.01016742,  0.32491934,  0.36402994, -0.30720228],\n",
      "       [ 0.24609816, -0.5211071 ,  0.13893569, -0.12497407, -0.12115857,\n",
      "         0.5268482 ,  0.20265675,  0.29612368,  0.07470673,  0.22004056]],\n",
      "      dtype=float32)>\n",
      "\n",
      "Weight shape:  (10,)\n",
      "Weight tensor:  <tf.Variable 'dense_1/bias:0' shape=(10,) dtype=float32, numpy=array([0., 0., 0., 0., 0., 0., 0., 0., 0., 0.], dtype=float32)>\n",
      "\n",
      "Weight shape:  (10, 3)\n",
      "Weight tensor:  <tf.Variable 'dense_2/kernel:0' shape=(10, 3) dtype=float32, numpy=\n",
      "array([[ 0.20281518, -0.4040736 , -0.6691969 ],\n",
      "       [-0.04263616, -0.4133929 ,  0.22164911],\n",
      "       [-0.31789023,  0.37850618,  0.3461144 ],\n",
      "       [ 0.4390607 , -0.15380567, -0.2548328 ],\n",
      "       [ 0.67014074, -0.25928804,  0.2936588 ],\n",
      "       [-0.4164163 ,  0.53007543, -0.31362772],\n",
      "       [-0.2387208 ,  0.6350814 ,  0.05964643],\n",
      "       [-0.0346936 ,  0.16003245,  0.6538943 ],\n",
      "       [-0.01184219,  0.39977467, -0.17737544],\n",
      "       [-0.4154958 ,  0.05946159, -0.57549924]], dtype=float32)>\n",
      "\n",
      "Weight shape:  (3,)\n",
      "Weight tensor:  <tf.Variable 'dense_2/bias:0' shape=(3,) dtype=float32, numpy=array([0., 0., 0.], dtype=float32)>\n",
      "\n"
     ]
    }
   ],
   "source": [
    "for i, v in enumerate(model.variables):\n",
    "    print(\"Weight shape: \", v.shape)\n",
    "    print(\"Weight tensor: \", v)\n",
    "    print()\n"
   ]
  },
  {
   "cell_type": "markdown",
   "metadata": {},
   "source": [
    "## Loss\n",
    "\n",
    "Loss is sparse categorical cross entropy"
   ]
  },
  {
   "cell_type": "code",
   "execution_count": 18,
   "metadata": {},
   "outputs": [],
   "source": [
    "def loss(model, x, y):\n",
    "    y_ = model(x)\n",
    "    # define here loss and activation ot the last layer\n",
    "    return tf.losses.sparse_softmax_cross_entropy(labels=y, logits=y_)"
   ]
  },
  {
   "cell_type": "code",
   "execution_count": 19,
   "metadata": {},
   "outputs": [
    {
     "data": {
      "text/plain": [
       "<tf.Tensor: id=223, shape=(), dtype=float32, numpy=0.9360188>"
      ]
     },
     "execution_count": 19,
     "metadata": {},
     "output_type": "execute_result"
    }
   ],
   "source": [
    "loss(model, features, label)"
   ]
  },
  {
   "cell_type": "markdown",
   "metadata": {},
   "source": [
    "## Gradients\n",
    "\n",
    "In eager mode we can evaluate the gradients"
   ]
  },
  {
   "cell_type": "code",
   "execution_count": 20,
   "metadata": {},
   "outputs": [],
   "source": [
    "def grad(model, inputs, targets):\n",
    "    with tfe.GradientTape() as tape:\n",
    "        loss_value = loss(model, inputs, targets)\n",
    "    return tape.gradient(loss_value, model.variables)"
   ]
  },
  {
   "cell_type": "code",
   "execution_count": 21,
   "metadata": {},
   "outputs": [],
   "source": [
    "grads = grad(model, features, label)"
   ]
  },
  {
   "cell_type": "code",
   "execution_count": 22,
   "metadata": {},
   "outputs": [
    {
     "name": "stdout",
     "output_type": "stream",
     "text": [
      "Gradient shape:  (4, 10)\n",
      "Gradient tensor:  tf.Tensor(\n",
      "[[ 0.          0.         -0.08657197  0.          0.2347456   0.\n",
      "  -0.35403103  0.          0.          0.        ]\n",
      " [ 0.          0.         -0.14714403  0.          0.1534805   0.\n",
      "  -0.14631647  0.          0.          0.        ]\n",
      " [ 0.          0.          0.15039381  0.          0.07682529  0.\n",
      "  -0.3388629   0.          0.          0.        ]\n",
      " [ 0.          0.          0.0624716   0.          0.01556699  0.\n",
      "  -0.13198575  0.          0.          0.        ]], shape=(4, 10), dtype=float32)\n",
      "\n",
      "Gradient shape:  (10,)\n",
      "Gradient tensor:  tf.Tensor(\n",
      "[ 0.          0.         -0.02601108  0.          0.04867848  0.\n",
      " -0.0539533   0.          0.          0.        ], shape=(10,), dtype=float32)\n",
      "\n",
      "Gradient shape:  (10, 10)\n",
      "Gradient tensor:  tf.Tensor(\n",
      "[[ 0.          0.          0.          0.          0.          0.\n",
      "   0.          0.          0.          0.        ]\n",
      " [ 0.          0.          0.          0.          0.          0.\n",
      "   0.          0.          0.          0.        ]\n",
      " [-0.07585278  0.         -0.0497647   0.05870414 -0.03618388  0.04393581\n",
      "   0.00943793 -0.0078194   0.00263248  0.        ]\n",
      " [ 0.          0.          0.          0.          0.          0.\n",
      "   0.          0.          0.          0.        ]\n",
      " [ 0.00033313  0.         -0.18118937  0.19628592  0.03927706  0.05732175\n",
      "  -0.06331965 -0.21968977  0.01424064  0.        ]\n",
      " [ 0.          0.          0.          0.          0.          0.\n",
      "   0.          0.          0.          0.        ]\n",
      " [-0.09415021  0.         -0.20186669  0.21707088  0.0054317   0.06600527\n",
      "  -0.04624125 -0.15657598  0.01275498  0.        ]\n",
      " [ 0.          0.          0.          0.          0.          0.\n",
      "   0.          0.          0.          0.        ]\n",
      " [ 0.          0.          0.          0.          0.          0.\n",
      "   0.          0.          0.          0.        ]\n",
      " [ 0.          0.          0.          0.          0.          0.\n",
      "   0.          0.          0.          0.        ]], shape=(10, 10), dtype=float32)\n",
      "\n",
      "Gradient shape:  (10,)\n",
      "Gradient tensor:  tf.Tensor(\n",
      "[-0.14611948  0.         -0.08104442  0.09964158 -0.06371915  0.07037982\n",
      "  0.02034471  0.00141907  0.00663208  0.        ], shape=(10,), dtype=float32)\n",
      "\n",
      "Gradient shape:  (10, 3)\n",
      "Gradient tensor:  tf.Tensor(\n",
      "[[-2.1336546e-02  5.7918341e-03  1.5544711e-02]\n",
      " [ 0.0000000e+00  0.0000000e+00  0.0000000e+00]\n",
      " [ 8.7122768e-02  2.6330788e-02 -1.1345355e-01]\n",
      " [ 3.1692557e-02  3.2716844e-02 -6.4409405e-02]\n",
      " [ 9.2559218e-02  7.0073970e-02 -1.6263317e-01]\n",
      " [ 8.4143810e-02  4.5797411e-02 -1.2994121e-01]\n",
      " [-2.5810632e-03 -5.0825672e-03  7.6636299e-03]\n",
      " [ 1.2181683e-01  5.6803893e-02 -1.7862074e-01]\n",
      " [ 1.5919324e-04  1.8987195e-04 -3.4906514e-04]\n",
      " [ 0.0000000e+00  0.0000000e+00  0.0000000e+00]], shape=(10, 3), dtype=float32)\n",
      "\n",
      "Gradient shape:  (3,)\n",
      "Gradient tensor:  tf.Tensor([-0.05691569  0.0764837  -0.01956803], shape=(3,), dtype=float32)\n",
      "\n"
     ]
    }
   ],
   "source": [
    "for i, g in enumerate(grads):\n",
    "    print(\"Gradient shape: \", g.shape)\n",
    "    print(\"Gradient tensor: \", g)\n",
    "    print()\n"
   ]
  },
  {
   "cell_type": "markdown",
   "metadata": {},
   "source": [
    "## Optimizer\n",
    "\n",
    "Let's use simple gradient descent"
   ]
  },
  {
   "cell_type": "code",
   "execution_count": 23,
   "metadata": {},
   "outputs": [],
   "source": [
    "optimizer = tf.train.GradientDescentOptimizer(learning_rate=0.01)"
   ]
  },
  {
   "cell_type": "markdown",
   "metadata": {},
   "source": [
    "## Training Loop\n",
    "\n",
    "This is what the Keras split function do for us"
   ]
  },
  {
   "cell_type": "code",
   "execution_count": 27,
   "metadata": {},
   "outputs": [
    {
     "name": "stdout",
     "output_type": "stream",
     "text": [
      "Epoch 000: Loss: 0.160, Accuracy: 97.500%\n",
      "Epoch 050: Loss: 0.125, Accuracy: 98.333%\n",
      "Epoch 100: Loss: 0.091, Accuracy: 98.333%\n",
      "Epoch 150: Loss: 0.085, Accuracy: 98.333%\n",
      "Epoch 200: Loss: 0.079, Accuracy: 98.333%\n"
     ]
    }
   ],
   "source": [
    "train_loss_results = []\n",
    "train_accuracy_results = []\n",
    "\n",
    "num_epochs = 201\n",
    "\n",
    "# Loop over epochs\n",
    "for epoch in range(num_epochs):\n",
    "    \n",
    "    # accumulators for mean loss and accuracy\n",
    "    epoch_loss_avg = tfe.metrics.Mean()\n",
    "    epoch_accuracy = tfe.metrics.Accuracy()\n",
    "\n",
    "    # loop on dataset, for each batch:\n",
    "    for x, y in tfe.Iterator(train_dataset):\n",
    "        # Calculate gradients\n",
    "        grads = grad(model, x, y)\n",
    "        \n",
    "        # Apply gradients to the weights\n",
    "        optimizer.apply_gradients(zip(grads, model.variables),\n",
    "                                  global_step=tf.train.get_or_create_global_step())\n",
    "\n",
    "        # accumulate loss\n",
    "        epoch_loss_avg(loss(model, x, y))\n",
    "        \n",
    "        # calculate predictions\n",
    "        y_pred = tf.argmax(model(x), axis=1, output_type=tf.int32)\n",
    "        # acccumulate accuracy\n",
    "        epoch_accuracy(y_pred, y)\n",
    "\n",
    "    # end epoch\n",
    "    train_loss_results.append(epoch_loss_avg.result())\n",
    "    train_accuracy_results.append(epoch_accuracy.result())\n",
    "\n",
    "    if epoch % 50 == 0:\n",
    "        print(\"Epoch {:03d}: Loss: {:.3f}, Accuracy: {:.3%}\".format(epoch,\n",
    "                                                                    epoch_loss_avg.result(),\n",
    "                                                                    epoch_accuracy.result()))"
   ]
  },
  {
   "cell_type": "markdown",
   "metadata": {},
   "source": [
    "## Plot Metrics"
   ]
  },
  {
   "cell_type": "code",
   "execution_count": 28,
   "metadata": {},
   "outputs": [
    {
     "data": {
      "image/png": "[encoded data removed]",
      "text/plain": [
       "<Figure size 864x576 with 2 Axes>"
      ]
     },
     "metadata": {
      "needs_background": "light"
     },
     "output_type": "display_data"
    }
   ],
   "source": [
    "fig, axes = plt.subplots(2, sharex=True, figsize=(12, 8))\n",
    "fig.suptitle('Training Metrics')\n",
    "\n",
    "axes[0].set_ylabel(\"Loss\", fontsize=14)\n",
    "axes[0].plot(train_loss_results)\n",
    "\n",
    "axes[1].set_ylabel(\"Accuracy\", fontsize=14)\n",
    "axes[1].set_xlabel(\"Epoch\", fontsize=14)\n",
    "axes[1].plot(train_accuracy_results)\n",
    "\n",
    "plt.show()"
   ]
  },
  {
   "cell_type": "markdown",
   "metadata": {},
   "source": [
    "## Test"
   ]
  },
  {
   "cell_type": "code",
   "execution_count": 29,
   "metadata": {},
   "outputs": [],
   "source": [
    "test_fp = '../data/iris_test.csv'"
   ]
  },
  {
   "cell_type": "code",
   "execution_count": 30,
   "metadata": {},
   "outputs": [],
   "source": [
    "test_dataset = tf.data.TextLineDataset(test_fp)\n",
    "test_dataset = test_dataset.skip(1)             # skip header row\n",
    "test_dataset = test_dataset.map(parse_csv)      # parse each row with the funcition created earlier\n",
    "test_dataset = test_dataset.shuffle(1000)       # randomize\n",
    "test_dataset = test_dataset.batch(32)           # use the same batch size as the training set"
   ]
  },
  {
   "cell_type": "code",
   "execution_count": 31,
   "metadata": {},
   "outputs": [
    {
     "name": "stdout",
     "output_type": "stream",
     "text": [
      "Test set accuracy: 96.667%\n"
     ]
    }
   ],
   "source": [
    "test_accuracy = tfe.metrics.Accuracy()\n",
    "\n",
    "for (x, y) in tfe.Iterator(test_dataset):\n",
    "    prediction = tf.argmax(model(x), axis=1, output_type=tf.int32)\n",
    "    test_accuracy(prediction, y)\n",
    "\n",
    "print(\"Test set accuracy: {:.3%}\".format(test_accuracy.result()))"
   ]
  },
  {
   "cell_type": "code",
   "execution_count": 32,
   "metadata": {},
   "outputs": [
    {
     "name": "stdout",
     "output_type": "stream",
     "text": [
      "Example 0 prediction: Iris setosa\n",
      "Example 1 prediction: Iris versicolor\n",
      "Example 2 prediction: Iris virginica\n"
     ]
    }
   ],
   "source": [
    "class_ids = [\"Iris setosa\", \"Iris versicolor\", \"Iris virginica\"]\n",
    "\n",
    "predict_dataset = tf.convert_to_tensor([\n",
    "    [5.1, 3.3, 1.7, 0.5,],\n",
    "    [5.9, 3.0, 4.2, 1.5,],\n",
    "    [6.9, 3.1, 5.4, 2.1]\n",
    "])\n",
    "\n",
    "predictions = model(predict_dataset)\n",
    "\n",
    "for i, logits in enumerate(predictions):\n",
    "    class_idx = tf.argmax(logits).numpy()\n",
    "    name = class_ids[class_idx]\n",
    "    print(\"Example {} prediction: {}\".format(i, name))"
   ]
  },
  {
   "cell_type": "code",
   "execution_count": null,
   "metadata": {
    "collapsed": true
   },
   "outputs": [],
   "source": []
  },
  {
   "cell_type": "code",
   "execution_count": null,
   "metadata": {},
   "outputs": [],
   "source": []
  }
 ],
 "metadata": {
  "kernelspec": {
   "display_name": "Python 3",
   "language": "python",
   "name": "python3"
  },
  "language_info": {
   "codemirror_mode": {
    "name": "ipython",
    "version": 3
   },
   "file_extension": ".py",
   "mimetype": "text/x-python",
   "name": "python",
   "nbconvert_exporter": "python",
   "pygments_lexer": "ipython3",
   "version": "3.6.7"
  }
 },
 "nbformat": 4,
 "nbformat_minor": 2
}
